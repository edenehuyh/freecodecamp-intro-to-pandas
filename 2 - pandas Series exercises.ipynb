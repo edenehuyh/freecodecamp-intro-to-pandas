{
  "cells": [
    {
      "cell_type": "markdown",
      "metadata": {
        "id": "view-in-github",
        "colab_type": "text"
      },
      "source": [
        "<a href=\"https://colab.research.google.com/github/edenehuyh/freecodecamp-intro-to-pandas/blob/master/2%20-%20pandas%20Series%20exercises.ipynb\" target=\"_parent\"><img src=\"https://colab.research.google.com/assets/colab-badge.svg\" alt=\"Open In Colab\"/></a>"
      ]
    },
    {
      "cell_type": "markdown",
      "metadata": {
        "id": "4HyG9m-imVuu"
      },
      "source": [
        "![rmotr](https://user-images.githubusercontent.com/7065401/52071918-bda15380-2562-11e9-828c-7f95297e4a82.png)\n",
        "<hr style=\"margin-bottom: 40px;\">\n",
        "\n",
        "# Pandas Series exercises\n"
      ]
    },
    {
      "cell_type": "code",
      "execution_count": 1,
      "metadata": {
        "id": "KDMJL1qOmVuv",
        "outputId": "1aab1ded-e04a-4606-f0e0-51c9686f112c",
        "colab": {
          "base_uri": "https://localhost:8080/"
        }
      },
      "outputs": [
        {
          "output_type": "stream",
          "name": "stdout",
          "text": [
            "1.5.3\n"
          ]
        }
      ],
      "source": [
        "# Import the numpy package under the name np\n",
        "import numpy as np\n",
        "\n",
        "# Import the pandas package under the name pd\n",
        "import pandas as pd\n",
        "\n",
        "# Print the pandas version and the configuration\n",
        "print(pd.__version__)"
      ]
    },
    {
      "cell_type": "markdown",
      "metadata": {
        "id": "8iRbmxVCmVuv"
      },
      "source": [
        "![purple-divider](https://user-images.githubusercontent.com/7065401/52071927-c1cd7100-2562-11e9-908a-dde91ba14e59.png)\n",
        "\n",
        "## Series creation"
      ]
    },
    {
      "cell_type": "markdown",
      "metadata": {
        "id": "dsdTGAcwmVuw"
      },
      "source": [
        "### Create an empty pandas Series"
      ]
    },
    {
      "cell_type": "code",
      "execution_count": 5,
      "metadata": {
        "id": "wN5ZhowwmVuw",
        "outputId": "512bcaf7-9383-4496-f49b-a985dbe8af9f",
        "colab": {
          "base_uri": "https://localhost:8080/"
        }
      },
      "outputs": [
        {
          "output_type": "stream",
          "name": "stderr",
          "text": [
            "<ipython-input-5-c9dfc8139efe>:2: FutureWarning: The default dtype for empty Series will be 'object' instead of 'float64' in a future version. Specify a dtype explicitly to silence this warning.\n",
            "  pd.Series()\n"
          ]
        },
        {
          "output_type": "execute_result",
          "data": {
            "text/plain": [
              "Series([], dtype: float64)"
            ]
          },
          "metadata": {},
          "execution_count": 5
        }
      ],
      "source": [
        "# your code goes here\n",
        "pd.Series()"
      ]
    },
    {
      "cell_type": "markdown",
      "metadata": {
        "id": "mxsyc5yjmVuw"
      },
      "source": [
        "![green-divider](https://user-images.githubusercontent.com/7065401/52071924-c003ad80-2562-11e9-8297-1c6595f8a7ff.png)\n",
        "\n",
        "### Given the X python list convert it to an Y pandas Series"
      ]
    },
    {
      "cell_type": "code",
      "execution_count": 10,
      "metadata": {
        "id": "2xwv-XWBmVuw",
        "outputId": "f69912e3-ff13-4fdb-e5d5-79d0a6ace6cf",
        "colab": {
          "base_uri": "https://localhost:8080/"
        }
      },
      "outputs": [
        {
          "output_type": "stream",
          "name": "stdout",
          "text": [
            "['A', 'B', 'C'] <class 'list'>\n",
            "0    A\n",
            "1    B\n",
            "2    C\n",
            "dtype: object <class 'pandas.core.series.Series'>\n"
          ]
        }
      ],
      "source": [
        "# your code goes here\n",
        "X = ['A', 'B', 'C']\n",
        "print(X, type(X))\n",
        "\n",
        "Y = pd.Series(X)\n",
        "print(Y, type(Y))"
      ]
    },
    {
      "cell_type": "markdown",
      "metadata": {
        "id": "iCqEoGYBmVuw"
      },
      "source": [
        "![green-divider](https://user-images.githubusercontent.com/7065401/52071924-c003ad80-2562-11e9-8297-1c6595f8a7ff.png)\n",
        "\n",
        "### Given the X pandas Series, name it 'My letters'"
      ]
    },
    {
      "cell_type": "code",
      "execution_count": 11,
      "metadata": {
        "id": "U-Lsm6GEmVuw",
        "outputId": "8867f7b8-aa80-4186-e0e6-74915874e9c9",
        "colab": {
          "base_uri": "https://localhost:8080/"
        }
      },
      "outputs": [
        {
          "output_type": "execute_result",
          "data": {
            "text/plain": [
              "0    A\n",
              "1    B\n",
              "2    C\n",
              "Name: My letters, dtype: object"
            ]
          },
          "metadata": {},
          "execution_count": 11
        }
      ],
      "source": [
        "# your code goes here\n",
        "X = pd.Series(['A', 'B', 'C'])\n",
        "\n",
        "X.name = 'My letters'\n",
        "X"
      ]
    },
    {
      "cell_type": "markdown",
      "metadata": {
        "id": "VrWqLj0ImVuw"
      },
      "source": [
        "![green-divider](https://user-images.githubusercontent.com/7065401/52071924-c003ad80-2562-11e9-8297-1c6595f8a7ff.png)\n",
        "\n",
        "### Given the X pandas Series, show its values\n"
      ]
    },
    {
      "cell_type": "code",
      "execution_count": 12,
      "metadata": {
        "id": "NQahmMplmVuw",
        "outputId": "54e10f42-400d-4642-9acf-93f3cb73d9a7",
        "colab": {
          "base_uri": "https://localhost:8080/"
        }
      },
      "outputs": [
        {
          "output_type": "execute_result",
          "data": {
            "text/plain": [
              "array(['A', 'B', 'C'], dtype=object)"
            ]
          },
          "metadata": {},
          "execution_count": 12
        }
      ],
      "source": [
        "# your code goes here\n",
        "X = pd.Series(['A', 'B', 'C'])\n",
        "\n",
        "X.values"
      ]
    },
    {
      "cell_type": "markdown",
      "metadata": {
        "id": "4j54JF71mVuw"
      },
      "source": [
        "![purple-divider](https://user-images.githubusercontent.com/7065401/52071927-c1cd7100-2562-11e9-908a-dde91ba14e59.png)\n",
        "\n",
        "## Series indexation"
      ]
    },
    {
      "cell_type": "markdown",
      "metadata": {
        "id": "oHOaVTvqmVuw"
      },
      "source": [
        "### Assign index names to the given X pandas Series\n"
      ]
    },
    {
      "cell_type": "code",
      "execution_count": 18,
      "metadata": {
        "id": "HXXVrS-ImVuw",
        "outputId": "177a75ef-1d6c-4dd2-b311-c0f502ff8cf7",
        "colab": {
          "base_uri": "https://localhost:8080/"
        }
      },
      "outputs": [
        {
          "output_type": "execute_result",
          "data": {
            "text/plain": [
              "first     A\n",
              "second    B\n",
              "third     C\n",
              "dtype: object"
            ]
          },
          "metadata": {},
          "execution_count": 18
        }
      ],
      "source": [
        "# your code goes here\n",
        "index_names = ['first', 'second', 'third']\n",
        "X.index = index_names\n",
        "X"
      ]
    },
    {
      "cell_type": "markdown",
      "metadata": {
        "id": "utmG0mtumVux"
      },
      "source": [
        "![green-divider](https://user-images.githubusercontent.com/7065401/52071924-c003ad80-2562-11e9-8297-1c6595f8a7ff.png)\n",
        "\n",
        "### Given the X pandas Series, show its first element\n"
      ]
    },
    {
      "cell_type": "code",
      "execution_count": 22,
      "metadata": {
        "id": "jYtPjp1rmVux",
        "outputId": "5e0f6abc-90bd-4590-b845-24e550c02edd",
        "colab": {
          "base_uri": "https://localhost:8080/",
          "height": 35
        }
      },
      "outputs": [
        {
          "output_type": "execute_result",
          "data": {
            "text/plain": [
              "'D'"
            ],
            "application/vnd.google.colaboratory.intrinsic+json": {
              "type": "string"
            }
          },
          "metadata": {},
          "execution_count": 22
        }
      ],
      "source": [
        "# your code goes here\n",
        "X = pd.Series(['D', 'E', 'F'], index = ['first', 'second', 'third'])\n",
        "X['first'] #by index\n",
        "#X[0] #by position\n",
        "#X.iloc[0] #by position"
      ]
    },
    {
      "cell_type": "markdown",
      "metadata": {
        "id": "8d3pV2CAmVux"
      },
      "source": [
        "![green-divider](https://user-images.githubusercontent.com/7065401/52071924-c003ad80-2562-11e9-8297-1c6595f8a7ff.png)\n",
        "\n",
        "### Given the X pandas Series, show its last element\n"
      ]
    },
    {
      "cell_type": "code",
      "execution_count": 25,
      "metadata": {
        "id": "s7uC0B-UmVux",
        "outputId": "b8449c8d-01e0-4aef-b356-35281dfdf019",
        "colab": {
          "base_uri": "https://localhost:8080/",
          "height": 35
        }
      },
      "outputs": [
        {
          "output_type": "execute_result",
          "data": {
            "text/plain": [
              "'F'"
            ],
            "application/vnd.google.colaboratory.intrinsic+json": {
              "type": "string"
            }
          },
          "metadata": {},
          "execution_count": 25
        }
      ],
      "source": [
        "# your code goes here\n",
        "#X['third']\n",
        "#X[-1] by position\n",
        "X.iloc[-1] #by position"
      ]
    },
    {
      "cell_type": "markdown",
      "metadata": {
        "id": "x_jTP7XOmVux"
      },
      "source": [
        "![green-divider](https://user-images.githubusercontent.com/7065401/52071924-c003ad80-2562-11e9-8297-1c6595f8a7ff.png)\n",
        "\n",
        "### Given the X pandas Series, show all middle elements\n"
      ]
    },
    {
      "cell_type": "code",
      "execution_count": null,
      "metadata": {
        "id": "Llt-uwwsmVux"
      },
      "outputs": [],
      "source": [
        "# your code goes here\n"
      ]
    },
    {
      "cell_type": "code",
      "execution_count": null,
      "metadata": {
        "cell_type": "solution",
        "id": "vZ6p65bTmVux"
      },
      "outputs": [],
      "source": [
        "X = pd.Series(['A','B','C','D','E'],\n",
        "              index=['first','second','third','forth','fifth'])\n",
        "\n",
        "#X[['second', 'third', 'forth']]\n",
        "#X.iloc[1:-1] # by position\n",
        "X[1:-1] # by position"
      ]
    },
    {
      "cell_type": "markdown",
      "metadata": {
        "id": "a9ZF3xJymVux"
      },
      "source": [
        "![green-divider](https://user-images.githubusercontent.com/7065401/52071924-c003ad80-2562-11e9-8297-1c6595f8a7ff.png)\n",
        "\n",
        "### Given the X pandas Series, show the elements in reverse position\n"
      ]
    },
    {
      "cell_type": "code",
      "execution_count": 29,
      "metadata": {
        "id": "b4vi52I1mVux",
        "outputId": "531d1cc0-3b5b-4223-c7b1-d8b389d1de7e",
        "colab": {
          "base_uri": "https://localhost:8080/"
        }
      },
      "outputs": [
        {
          "output_type": "execute_result",
          "data": {
            "text/plain": [
              "fifth     E\n",
              "forth     D\n",
              "third     C\n",
              "second    B\n",
              "first     A\n",
              "dtype: object"
            ]
          },
          "metadata": {},
          "execution_count": 29
        }
      ],
      "source": [
        "# your code goes here\n",
        "X = pd.Series(['A','B','C','D','E'],\n",
        "              index=['first','second','third','forth','fifth'])\n",
        "#X[::-1]\n",
        "X.iloc[::-1]"
      ]
    },
    {
      "cell_type": "markdown",
      "metadata": {
        "id": "jPaZ026cmVux"
      },
      "source": [
        "![green-divider](https://user-images.githubusercontent.com/7065401/52071924-c003ad80-2562-11e9-8297-1c6595f8a7ff.png)\n",
        "\n",
        "### Given the X pandas Series, show the first and last elements\n"
      ]
    },
    {
      "cell_type": "code",
      "execution_count": 32,
      "metadata": {
        "id": "xnjEKJlamVux",
        "outputId": "1278a179-f402-494e-c46f-a796b45ffe96",
        "colab": {
          "base_uri": "https://localhost:8080/"
        }
      },
      "outputs": [
        {
          "output_type": "execute_result",
          "data": {
            "text/plain": [
              "first    A\n",
              "fifth    E\n",
              "dtype: object"
            ]
          },
          "metadata": {},
          "execution_count": 32
        }
      ],
      "source": [
        "# your code goes here\n",
        "X.iloc[[0, -1]]\n",
        "#X[[0, -1]] by index"
      ]
    },
    {
      "cell_type": "markdown",
      "metadata": {
        "id": "K7lAwieYmVux"
      },
      "source": [
        "![purple-divider](https://user-images.githubusercontent.com/7065401/52071927-c1cd7100-2562-11e9-908a-dde91ba14e59.png)\n",
        "\n",
        "## Series manipulation"
      ]
    },
    {
      "cell_type": "markdown",
      "metadata": {
        "id": "O5nrjc25mVux"
      },
      "source": [
        "### Convert the given integer pandas Series to float\n"
      ]
    },
    {
      "cell_type": "code",
      "execution_count": 33,
      "metadata": {
        "id": "Icos93EdmVux",
        "outputId": "01cb31f2-4b41-43be-9ff3-48705016f132",
        "colab": {
          "base_uri": "https://localhost:8080/"
        }
      },
      "outputs": [
        {
          "output_type": "execute_result",
          "data": {
            "text/plain": [
              "first     1.0\n",
              "second    2.0\n",
              "third     3.0\n",
              "forth     4.0\n",
              "fifth     5.0\n",
              "dtype: float64"
            ]
          },
          "metadata": {},
          "execution_count": 33
        }
      ],
      "source": [
        "# your code goes here\n",
        "X = pd.Series([1,2,3,4,5],\n",
        "              index = ['first', 'second', 'third', 'forth', 'fifth'])\n",
        "pd.Series(X, dtype=float)"
      ]
    },
    {
      "cell_type": "markdown",
      "metadata": {
        "id": "LIvpsNZwmVux"
      },
      "source": [
        "![green-divider](https://user-images.githubusercontent.com/7065401/52071924-c003ad80-2562-11e9-8297-1c6595f8a7ff.png)\n",
        "\n",
        "### Reverse the given pandas Series (first element becomes last)"
      ]
    },
    {
      "cell_type": "code",
      "execution_count": 34,
      "metadata": {
        "id": "iLx7PHammVu0",
        "outputId": "3effac59-abc0-4df9-86d3-7e9b991abc79",
        "colab": {
          "base_uri": "https://localhost:8080/"
        }
      },
      "outputs": [
        {
          "output_type": "execute_result",
          "data": {
            "text/plain": [
              "fifth     5\n",
              "forth     4\n",
              "third     3\n",
              "second    2\n",
              "first     1\n",
              "dtype: int64"
            ]
          },
          "metadata": {},
          "execution_count": 34
        }
      ],
      "source": [
        "# your code goes here\n",
        "X[::-1]"
      ]
    },
    {
      "cell_type": "markdown",
      "metadata": {
        "id": "VpSgtt9gmVu0"
      },
      "source": [
        "![green-divider](https://user-images.githubusercontent.com/7065401/52071924-c003ad80-2562-11e9-8297-1c6595f8a7ff.png)\n",
        "\n",
        "### Order (sort) the given pandas Series\n"
      ]
    },
    {
      "cell_type": "code",
      "execution_count": 35,
      "metadata": {
        "id": "hfwRKppemVu0",
        "outputId": "1fb7edc0-6f7c-4c18-ff70-81c731179d15",
        "colab": {
          "base_uri": "https://localhost:8080/"
        }
      },
      "outputs": [
        {
          "output_type": "execute_result",
          "data": {
            "text/plain": [
              "first     1\n",
              "second    2\n",
              "third     3\n",
              "forth     4\n",
              "fifth     5\n",
              "dtype: int64"
            ]
          },
          "metadata": {},
          "execution_count": 35
        }
      ],
      "source": [
        "# your code goes here\n",
        "X = X.sort_values()\n",
        "X"
      ]
    },
    {
      "cell_type": "markdown",
      "metadata": {
        "id": "JH8x-i6BmVu1"
      },
      "source": [
        "![green-divider](https://user-images.githubusercontent.com/7065401/52071924-c003ad80-2562-11e9-8297-1c6595f8a7ff.png)\n",
        "\n",
        "### Given the X pandas Series, set the fifth element equal to 10\n"
      ]
    },
    {
      "cell_type": "code",
      "execution_count": 36,
      "metadata": {
        "id": "gpJGj4rvmVu1",
        "outputId": "a83097ad-2faa-43db-82c9-eb3bd98dbbc5",
        "colab": {
          "base_uri": "https://localhost:8080/"
        }
      },
      "outputs": [
        {
          "output_type": "execute_result",
          "data": {
            "text/plain": [
              "A     1\n",
              "B     2\n",
              "C     3\n",
              "D     4\n",
              "E    10\n",
              "dtype: int64"
            ]
          },
          "metadata": {},
          "execution_count": 36
        }
      ],
      "source": [
        "# your code goes here\n",
        "X = pd.Series([1,2,3,4,5],\n",
        "              index = ['A','B','C','D','E'])\n",
        "X[4] = 10\n",
        "X"
      ]
    },
    {
      "cell_type": "markdown",
      "metadata": {
        "id": "fnZY9QHNmVu1"
      },
      "source": [
        "![green-divider](https://user-images.githubusercontent.com/7065401/52071924-c003ad80-2562-11e9-8297-1c6595f8a7ff.png)\n",
        "\n",
        "### Given the X pandas Series, change all the middle elements to 0\n"
      ]
    },
    {
      "cell_type": "code",
      "execution_count": 37,
      "metadata": {
        "id": "ZwL6dGEUmVu1",
        "outputId": "6d875aa1-9b3a-49ac-d441-e87a3d5d6eed",
        "colab": {
          "base_uri": "https://localhost:8080/"
        }
      },
      "outputs": [
        {
          "output_type": "execute_result",
          "data": {
            "text/plain": [
              "A     1\n",
              "B     0\n",
              "C     0\n",
              "D     0\n",
              "E    10\n",
              "dtype: int64"
            ]
          },
          "metadata": {},
          "execution_count": 37
        }
      ],
      "source": [
        "# your code goes here\n",
        "X[1:-1] = 0\n",
        "X"
      ]
    },
    {
      "cell_type": "markdown",
      "metadata": {
        "id": "o7MF0m1pmVu1"
      },
      "source": [
        "![green-divider](https://user-images.githubusercontent.com/7065401/52071924-c003ad80-2562-11e9-8297-1c6595f8a7ff.png)\n",
        "\n",
        "### Given the X pandas Series, add 5 to every element\n"
      ]
    },
    {
      "cell_type": "code",
      "execution_count": 38,
      "metadata": {
        "id": "k3IXFHA-mVu1",
        "outputId": "74c3eb7c-bc92-4e1b-f236-6098270d72df",
        "colab": {
          "base_uri": "https://localhost:8080/"
        }
      },
      "outputs": [
        {
          "output_type": "execute_result",
          "data": {
            "text/plain": [
              "0     6\n",
              "1     7\n",
              "2     8\n",
              "3     9\n",
              "4    10\n",
              "dtype: int64"
            ]
          },
          "metadata": {},
          "execution_count": 38
        }
      ],
      "source": [
        "# your code goes here\n",
        "X = pd.Series([1,2,3,4,5])\n",
        "X + 5"
      ]
    },
    {
      "cell_type": "markdown",
      "metadata": {
        "id": "Mk6LpQ2WmVu1"
      },
      "source": [
        "![purple-divider](https://user-images.githubusercontent.com/7065401/52071927-c1cd7100-2562-11e9-908a-dde91ba14e59.png)\n",
        "\n",
        "## Series boolean arrays (also called masks)"
      ]
    },
    {
      "cell_type": "markdown",
      "metadata": {
        "id": "iDMSWSjfmVu1"
      },
      "source": [
        "### Given the X pandas Series, make a mask showing negative elements\n"
      ]
    },
    {
      "cell_type": "code",
      "execution_count": 39,
      "metadata": {
        "id": "3D6fnSlpmVu1",
        "outputId": "d440622e-982b-40f9-ea86-ad12c85a1a4a",
        "colab": {
          "base_uri": "https://localhost:8080/"
        }
      },
      "outputs": [
        {
          "output_type": "execute_result",
          "data": {
            "text/plain": [
              "0     True\n",
              "1    False\n",
              "2     True\n",
              "3     True\n",
              "4    False\n",
              "5    False\n",
              "6     True\n",
              "7     True\n",
              "8     True\n",
              "9    False\n",
              "dtype: bool"
            ]
          },
          "metadata": {},
          "execution_count": 39
        }
      ],
      "source": [
        "# your code goes here\n",
        "X = pd.Series([-1,2,0,-4,5,6,0,0,-9,10])\n",
        "\n",
        "mask = X <= 0\n",
        "mask"
      ]
    },
    {
      "cell_type": "markdown",
      "metadata": {
        "id": "EqtZcmrSmVu1"
      },
      "source": [
        "![green-divider](https://user-images.githubusercontent.com/7065401/52071924-c003ad80-2562-11e9-8297-1c6595f8a7ff.png)\n",
        "\n",
        "### Given the X pandas Series, get the negative elements\n"
      ]
    },
    {
      "cell_type": "code",
      "execution_count": 40,
      "metadata": {
        "id": "p2PbmFnEmVu1",
        "outputId": "e408c983-5ee1-4c5d-e059-8d9d220f545b",
        "colab": {
          "base_uri": "https://localhost:8080/"
        }
      },
      "outputs": [
        {
          "output_type": "execute_result",
          "data": {
            "text/plain": [
              "0   -1\n",
              "2    0\n",
              "3   -4\n",
              "6    0\n",
              "7    0\n",
              "8   -9\n",
              "dtype: int64"
            ]
          },
          "metadata": {},
          "execution_count": 40
        }
      ],
      "source": [
        "# your code goes here\n",
        "mask = X <= 0\n",
        "X[mask]"
      ]
    },
    {
      "cell_type": "markdown",
      "metadata": {
        "id": "EKRgJf1ZmVu1"
      },
      "source": [
        "![green-divider](https://user-images.githubusercontent.com/7065401/52071924-c003ad80-2562-11e9-8297-1c6595f8a7ff.png)\n",
        "\n",
        "### Given the X pandas Series, get numbers higher than 5\n"
      ]
    },
    {
      "cell_type": "code",
      "execution_count": 41,
      "metadata": {
        "id": "ib2qNBLfmVu1",
        "outputId": "c06cf3db-d8d1-4e74-fee1-c0bfe1275b0c",
        "colab": {
          "base_uri": "https://localhost:8080/"
        }
      },
      "outputs": [
        {
          "output_type": "execute_result",
          "data": {
            "text/plain": [
              "5     6\n",
              "9    10\n",
              "dtype: int64"
            ]
          },
          "metadata": {},
          "execution_count": 41
        }
      ],
      "source": [
        "# your code goes here\n",
        "mask = X > 5\n",
        "X[mask]"
      ]
    },
    {
      "cell_type": "markdown",
      "metadata": {
        "id": "6fLEzXz6mVu2"
      },
      "source": [
        "![green-divider](https://user-images.githubusercontent.com/7065401/52071924-c003ad80-2562-11e9-8297-1c6595f8a7ff.png)\n",
        "\n",
        "### Given the X pandas Series, get numbers higher than the elements mean"
      ]
    },
    {
      "cell_type": "code",
      "execution_count": 42,
      "metadata": {
        "id": "Ty4oTxz2mVu2",
        "outputId": "2806840c-6207-4afd-ba33-9beae63c853d",
        "colab": {
          "base_uri": "https://localhost:8080/"
        }
      },
      "outputs": [
        {
          "output_type": "execute_result",
          "data": {
            "text/plain": [
              "1     2\n",
              "4     5\n",
              "5     6\n",
              "9    10\n",
              "dtype: int64"
            ]
          },
          "metadata": {},
          "execution_count": 42
        }
      ],
      "source": [
        "# your code goes here\n",
        "mask = X > X.mean()\n",
        "X[mask]"
      ]
    },
    {
      "cell_type": "markdown",
      "metadata": {
        "id": "VZ0isZIXmVu2"
      },
      "source": [
        "![green-divider](https://user-images.githubusercontent.com/7065401/52071924-c003ad80-2562-11e9-8297-1c6595f8a7ff.png)\n",
        "\n",
        "### Given the X pandas Series, get numbers equal to 2 or 10\n"
      ]
    },
    {
      "cell_type": "code",
      "execution_count": 43,
      "metadata": {
        "id": "kT7v6ZBomVu2",
        "outputId": "389f6781-5ea1-495f-f7fb-e12a16dfe484",
        "colab": {
          "base_uri": "https://localhost:8080/"
        }
      },
      "outputs": [
        {
          "output_type": "execute_result",
          "data": {
            "text/plain": [
              "1     2\n",
              "9    10\n",
              "dtype: int64"
            ]
          },
          "metadata": {},
          "execution_count": 43
        }
      ],
      "source": [
        "# your code goes here\n",
        "mask = (X == 2) | (X == 10)\n",
        "X[mask]"
      ]
    },
    {
      "cell_type": "markdown",
      "metadata": {
        "id": "T7IoUa8QmVu2"
      },
      "source": [
        "![purple-divider](https://user-images.githubusercontent.com/7065401/52071927-c1cd7100-2562-11e9-908a-dde91ba14e59.png)\n",
        "\n",
        "## Logic functions"
      ]
    },
    {
      "cell_type": "markdown",
      "metadata": {
        "id": "dEnSf5xgmVu2"
      },
      "source": [
        "### Given the X pandas Series, return True if none of its elements is zero"
      ]
    },
    {
      "cell_type": "code",
      "execution_count": 45,
      "metadata": {
        "id": "DTunEtWQmVu2",
        "outputId": "8252cdae-46b6-4f31-b6c0-6bf456ba8374",
        "colab": {
          "base_uri": "https://localhost:8080/"
        }
      },
      "outputs": [
        {
          "output_type": "execute_result",
          "data": {
            "text/plain": [
              "False"
            ]
          },
          "metadata": {},
          "execution_count": 45
        }
      ],
      "source": [
        "# your code goes here\n",
        "X = pd.Series([-1,2,0,-4,5,6,0,0,-9,10])\n",
        "X.all()"
      ]
    },
    {
      "cell_type": "markdown",
      "metadata": {
        "id": "YWrZN61HmVu2"
      },
      "source": [
        "![green-divider](https://user-images.githubusercontent.com/7065401/52071924-c003ad80-2562-11e9-8297-1c6595f8a7ff.png)\n",
        "\n",
        "### Given the X pandas Series, return True if any of its elements is zero\n"
      ]
    },
    {
      "cell_type": "code",
      "execution_count": 47,
      "metadata": {
        "id": "SQ40cQsqmVu2",
        "outputId": "655933da-4d4f-4668-c740-c868e61b5159",
        "colab": {
          "base_uri": "https://localhost:8080/"
        }
      },
      "outputs": [
        {
          "output_type": "execute_result",
          "data": {
            "text/plain": [
              "True"
            ]
          },
          "metadata": {},
          "execution_count": 47
        }
      ],
      "source": [
        "# your code goes here\n",
        "X.any()"
      ]
    },
    {
      "cell_type": "markdown",
      "metadata": {
        "id": "tqY1Wqw7mVu2"
      },
      "source": [
        "![purple-divider](https://user-images.githubusercontent.com/7065401/52071927-c1cd7100-2562-11e9-908a-dde91ba14e59.png)\n",
        "\n",
        "## Summary statistics"
      ]
    },
    {
      "cell_type": "markdown",
      "metadata": {
        "id": "ZeMClwaYmVu2"
      },
      "source": [
        "### Given the X pandas Series, show the sum of its elements\n"
      ]
    },
    {
      "cell_type": "code",
      "execution_count": 50,
      "metadata": {
        "id": "f4LiVIJ1mVu2",
        "outputId": "c6882783-baca-4bc9-f2ac-f23b55d00a7a",
        "colab": {
          "base_uri": "https://localhost:8080/"
        }
      },
      "outputs": [
        {
          "output_type": "execute_result",
          "data": {
            "text/plain": [
              "43"
            ]
          },
          "metadata": {},
          "execution_count": 50
        }
      ],
      "source": [
        "# your code goes here\n",
        "X = pd.Series([3,5,6,7,2,3,4,9,4])\n",
        "#np.sum(X)\n",
        "X.sum()"
      ]
    },
    {
      "cell_type": "markdown",
      "metadata": {
        "id": "9ODUJr8rmVu2"
      },
      "source": [
        "![green-divider](https://user-images.githubusercontent.com/7065401/52071924-c003ad80-2562-11e9-8297-1c6595f8a7ff.png)\n",
        "\n",
        "### Given the X pandas Series, show the mean value of its elements"
      ]
    },
    {
      "cell_type": "code",
      "execution_count": 53,
      "metadata": {
        "id": "hc6dSgEZmVu2",
        "outputId": "4edc1237-6569-4b38-984a-d9685e775f3d",
        "colab": {
          "base_uri": "https://localhost:8080/"
        }
      },
      "outputs": [
        {
          "output_type": "execute_result",
          "data": {
            "text/plain": [
              "3.7"
            ]
          },
          "metadata": {},
          "execution_count": 53
        }
      ],
      "source": [
        "# your code goes here\n",
        "X = pd.Series([1,2,0,4,5,6,0,0,9,10])\n",
        "\n",
        "#np.mean(X)\n",
        "X.mean()"
      ]
    },
    {
      "cell_type": "markdown",
      "metadata": {
        "id": "MUykG6zYmVu3"
      },
      "source": [
        "![green-divider](https://user-images.githubusercontent.com/7065401/52071924-c003ad80-2562-11e9-8297-1c6595f8a7ff.png)\n",
        "\n",
        "### Given the X pandas Series, show the max value of its elements"
      ]
    },
    {
      "cell_type": "code",
      "execution_count": 54,
      "metadata": {
        "id": "sftR8CITmVu3",
        "outputId": "3322e78c-2fb5-4035-9ff0-5eeca74c37ad",
        "colab": {
          "base_uri": "https://localhost:8080/"
        }
      },
      "outputs": [
        {
          "output_type": "execute_result",
          "data": {
            "text/plain": [
              "10"
            ]
          },
          "metadata": {},
          "execution_count": 54
        }
      ],
      "source": [
        "# your code goes here\n",
        "#np.max(X)\n",
        "X.max()"
      ]
    },
    {
      "cell_type": "markdown",
      "metadata": {
        "id": "FFWsM8y5mVu3"
      },
      "source": [
        "![purple-divider](https://user-images.githubusercontent.com/7065401/52071927-c1cd7100-2562-11e9-908a-dde91ba14e59.png)"
      ]
    }
  ],
  "metadata": {
    "kernelspec": {
      "display_name": "Python 3",
      "language": "python",
      "name": "python3"
    },
    "language_info": {
      "codemirror_mode": {
        "name": "ipython",
        "version": 3
      },
      "file_extension": ".py",
      "mimetype": "text/x-python",
      "name": "python",
      "nbconvert_exporter": "python",
      "pygments_lexer": "ipython3",
      "version": "3.7.4"
    },
    "colab": {
      "provenance": [],
      "include_colab_link": true
    }
  },
  "nbformat": 4,
  "nbformat_minor": 0
}